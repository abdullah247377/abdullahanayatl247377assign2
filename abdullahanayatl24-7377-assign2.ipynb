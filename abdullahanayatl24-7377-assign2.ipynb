{
 "cells": [
  {
   "cell_type": "markdown",
   "id": "d0982708-ea1a-4450-9113-a3a8bea6e705",
   "metadata": {},
   "source": [
    "# Programming For Business Application\n",
    "\n",
    "## Assignment # 2\n",
    "\n",
    "## Abdullah Anayat\n",
    "\n",
    "## L24-7377\n",
    "\n",
    "## Msba-B"
   ]
  },
  {
   "cell_type": "code",
   "execution_count": 5,
   "id": "79ea628e-1fd1-4af3-a583-244c49a42fc2",
   "metadata": {},
   "outputs": [
    {
     "name": "stdin",
     "output_type": "stream",
     "text": [
      "Enter no.: -5\n"
     ]
    },
    {
     "name": "stdout",
     "output_type": "stream",
     "text": [
      "number is negative\n"
     ]
    }
   ],
   "source": [
    "# 1. Number Sign Checker\n",
    "# Write a Python program that takes a number as input and prints whether the number is positive,\n",
    "# negative, or zero.\n",
    "\n",
    "n = int(input(\"Enter no.:\"))\n",
    "if n<0:\n",
    "    print(\"number is negative\")\n",
    "elif n<0:\n",
    "    print(\"number is negative\")\n",
    "else:\n",
    "    print(\"number is zero\")"
   ]
  },
  {
   "cell_type": "code",
   "execution_count": 7,
   "id": "0984c11c-0f96-48d4-984d-ac7f4f5396a4",
   "metadata": {},
   "outputs": [
    {
     "name": "stdin",
     "output_type": "stream",
     "text": [
      "Enter the first number:  56\n",
      "Enter the operator (+, -, *, /):  +\n",
      "Enter the second number:  23\n"
     ]
    },
    {
     "name": "stdout",
     "output_type": "stream",
     "text": [
      "56.0 + 23.0 = 79.0\n"
     ]
    }
   ],
   "source": [
    "# 2. Simple Calculator\n",
    "# Write a Python program that takes two numbers and an operator (+, -, *, /) as input. It should\n",
    "# perform the corresponding arithmetic operation and print the result. Use if-else statements to\n",
    "# handle the operations.\n",
    "\n",
    "num1 = float(input(\"Enter the first number: \"))\n",
    "operator = input(\"Enter the operator (+, -, *, /): \")\n",
    "num2 = float(input(\"Enter the second number: \"))\n",
    "\n",
    "if operator == \"+\":\n",
    "    x = num1 + num2\n",
    "elif operator == \"-\":\n",
    "    x = num1 - num2\n",
    "elif operator == \"*\":\n",
    "    x = num1 * num2\n",
    "elif operator == \"/\":\n",
    "    if num2 != 0:\n",
    "         x = num1 / num2\n",
    "else:\n",
    "    print(\"Invalid operator. Please enter +, -, * or /.\")\n",
    "    exit()\n",
    "\n",
    "print(f\"{num1} {operator} {num2} = {x}\")"
   ]
  },
  {
   "cell_type": "code",
   "execution_count": 63,
   "id": "6d998a91-ff69-450b-a40c-4d48b8e42d93",
   "metadata": {},
   "outputs": [
    {
     "name": "stdin",
     "output_type": "stream",
     "text": [
      "Enter your age:  78\n"
     ]
    },
    {
     "name": "stdout",
     "output_type": "stream",
     "text": [
      "Senior\n"
     ]
    }
   ],
   "source": [
    "# 3. Age Group Classification\n",
    "# Write a Python program that takes an age as input and prints the age group:\n",
    "#  0-12 years: Child\n",
    "#  13-19 years: Teenager\n",
    "#  20-59 years: Adult\n",
    "#  60 and above: Senior\n",
    "\n",
    "age = int(input(\"Enter your age: \"))\n",
    "if age <= 12 and age > 0:\n",
    "    print(\"Child\")\n",
    "elif age <= 19 and age > 12:\n",
    "    print(\"Teenager\")\n",
    "elif age <= 59 and age >19:\n",
    "    print(\"Adult\")\n",
    "elif age >= 60:\n",
    "    print(\"Senior\")\n",
    "else:\n",
    "    print(\"error\")\n"
   ]
  },
  {
   "cell_type": "code",
   "execution_count": 61,
   "id": "d1b63b1a-3434-447f-9956-f6abf7d9441d",
   "metadata": {},
   "outputs": [
    {
     "name": "stdin",
     "output_type": "stream",
     "text": [
      "Enter your password:  123\n"
     ]
    },
    {
     "name": "stdout",
     "output_type": "stream",
     "text": [
      "Access denied\n"
     ]
    }
   ],
   "source": [
    "# 4. Password Checker\n",
    "# Write a Python program that takes a password as input. If the password matches a predefined\n",
    "# password (\"password123\"), print \"Access granted\". Otherwise, print \"Access denied\".\n",
    "\n",
    "password = \"password123\"\n",
    "user_password = input(\"Enter your password: \")\n",
    "if user_password == password:\n",
    "    print(\"Access granted\")\n",
    "else:\n",
    "    print(\"Access denied\")"
   ]
  },
  {
   "cell_type": "code",
   "execution_count": 59,
   "id": "372bf178-b73d-4d63-88ca-24756bcbf512",
   "metadata": {},
   "outputs": [
    {
     "name": "stdin",
     "output_type": "stream",
     "text": [
      "Enter a number between 1 and 7:  5\n"
     ]
    },
    {
     "name": "stdout",
     "output_type": "stream",
     "text": [
      "Friday\n"
     ]
    }
   ],
   "source": [
    "# 5. Weekday Checker\n",
    "# Write a Python program that takes a number between 1 and 7 as input and prints the\n",
    "# corresponding day of the week. Use 1 for Monday, 2 for Tuesday, and so on up to 7 for Sunday.\n",
    "# If the input is not between 1 and 7, print \"Invalid input\".\n",
    "\n",
    "days = [\"Monday\", \"Tuesday\", \"Wednesday\", \"Thursday\", \"Friday\", \"Saturday\", \"Sunday\"]\n",
    "i = int(input(\"Enter a number between 1 and 7: \"))\n",
    "if 1 <= i <= 7:\n",
    "    print(days[i-1])\n",
    "else:\n",
    "     print(\"Invalid input\")\n"
   ]
  },
  {
   "cell_type": "code",
   "execution_count": 57,
   "id": "0ae08a8d-32b8-4ae7-b6b3-e9a03f273730",
   "metadata": {},
   "outputs": [
    {
     "name": "stdin",
     "output_type": "stream",
     "text": [
      "Enter the total purchase amount:  600\n"
     ]
    },
    {
     "name": "stdout",
     "output_type": "stream",
     "text": [
      "The final amount after discount is: 480.0\n"
     ]
    }
   ],
   "source": [
    "# 6. Discount Calculator\n",
    "# Write a Python program that takes the total purchase amount as input. If the amount is greater\n",
    "# than $100, apply a 10% discount. If it is greater than $500, apply a 20% discount. Print the final\n",
    "# amount after applying the discount.\n",
    "\n",
    "amount = float(input(\"Enter the total purchase amount: \"))\n",
    "if amount > 500:\n",
    "    discount = amount * 0.20\n",
    "elif amount > 100:\n",
    "    discount = amount * 0.10\n",
    "else:\n",
    "    discount = 0\n",
    "\n",
    "final_amount = amount - discount\n",
    "print(\"The final amount after discount is:\" , final_amount)"
   ]
  },
  {
   "cell_type": "code",
   "execution_count": null,
   "id": "0aed08a7-65b2-41ea-a857-21c3c770eeda",
   "metadata": {},
   "outputs": [],
   "source": []
  }
 ],
 "metadata": {
  "kernelspec": {
   "display_name": "Python 3 (ipykernel)",
   "language": "python",
   "name": "python3"
  },
  "language_info": {
   "codemirror_mode": {
    "name": "ipython",
    "version": 3
   },
   "file_extension": ".py",
   "mimetype": "text/x-python",
   "name": "python",
   "nbconvert_exporter": "python",
   "pygments_lexer": "ipython3",
   "version": "3.12.4"
  }
 },
 "nbformat": 4,
 "nbformat_minor": 5
}
